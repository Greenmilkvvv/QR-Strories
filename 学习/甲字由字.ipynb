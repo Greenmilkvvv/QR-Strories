{
 "cells": [
  {
   "cell_type": "markdown",
   "id": "78a83fb6",
   "metadata": {},
   "source": [
    "# 甲字线、由字线构建策略\n",
    "\n",
    "| 名称  | 走势结构          | 技术含义    | 应对策略         |\n",
    "| --- | ------------- | ------- | ------------ |\n",
    "| 甲字线 | 拉升 → 横盘 → 急跌  | 主力诱多出货  | 横盘不追高，跌破下沿止损 |\n",
    "| 由字线 | 横盘 → 突破 → 再横盘 | 主力建仓或蓄势 | 突破跟进，二横缩量可加仓 |\n",
    "\n",
    "\n",
    "\n",
    "1. 由字线\n",
    "   - 第一横：过去 15 根日 K 振幅 ≤ 10%，最高价/最低价波动区间 ≤ 8%，量能逐日递减。\n",
    "   - 竖段：紧接着出现 1 根放量（量 > 第一横均量 1.8 倍）阳线，收盘突破第一横最高价，且实体 ≥ 3%。\n",
    "   - 第二横：突破后又出现 5–15 根 K 线，最高价不再创新高，区间振幅 ≤ 9%，量能 < 竖段均量 0.75 倍，且收盘价始终高于竖段阳线开盘价。\n",
    "2. 甲字线\n",
    "   - 高位横：过去 10 根 K 线最高价基本水平（标准差 < 2%），区间振幅 ≤ 7%。\n",
    "   - 再竖跌：今日收盘 < 横盘下沿且实体 ≥ 2%，同时量 > 横盘均量 1.5 倍。\n"
   ]
  }
 ],
 "metadata": {
  "kernelspec": {
   "display_name": "Python 3",
   "language": "python",
   "name": "python3"
  },
  "language_info": {
   "codemirror_mode": {
    "name": "ipython",
    "version": 3
   },
   "file_extension": ".py",
   "mimetype": "text/x-python",
   "name": "python",
   "nbconvert_exporter": "python",
   "pygments_lexer": "ipython3",
   "version": "3.10.7"
  }
 },
 "nbformat": 4,
 "nbformat_minor": 5
}
